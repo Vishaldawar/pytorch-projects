{
 "cells": [
  {
   "cell_type": "code",
   "execution_count": 2,
   "id": "b5a8033e-9313-4ce5-a559-d925666a0025",
   "metadata": {},
   "outputs": [],
   "source": [
    "import pandas as pd\n",
    "import numpy as np\n",
    "\n",
    "import warnings\n",
    "warnings.filterwarnings('ignore')\n",
    "\n",
    "import torch\n",
    "import torch.nn.functional as F"
   ]
  },
  {
   "cell_type": "code",
   "execution_count": 29,
   "id": "bf387178-7fe0-4133-859f-88c2b18d772e",
   "metadata": {},
   "outputs": [],
   "source": [
    "import matplotlib.pyplot as plt\n",
    "import seaborn as sns"
   ]
  },
  {
   "cell_type": "code",
   "execution_count": 6,
   "id": "66f53eb5-9a56-45be-beef-556f8d0e0abe",
   "metadata": {},
   "outputs": [
    {
     "data": {
      "text/plain": [
       "['emma', 'olivia', 'ava', 'isabella', 'sophia']"
      ]
     },
     "execution_count": 6,
     "metadata": {},
     "output_type": "execute_result"
    }
   ],
   "source": [
    "f = open(\"./data/names.txt\")\n",
    "data = f.readlines()\n",
    "data = [x.replace('\\n','') for x in data]\n",
    "f.close()\n",
    "data[:5]"
   ]
  },
  {
   "cell_type": "code",
   "execution_count": 13,
   "id": "d9f404ce-ec8e-456b-8b56-b1352ac1690a",
   "metadata": {},
   "outputs": [],
   "source": [
    "s = np.sort(list(set(\"\".join(data))))\n",
    "mapp_stoi = {s[i]:i+1 for i in range(len(s))}\n",
    "mapp_stoi[\".\"] = 0\n",
    "mapp_itos = {v:k for k,v in mapp_stoi.items()}"
   ]
  },
  {
   "cell_type": "code",
   "execution_count": 14,
   "id": "0ab9eafd-4754-40a1-ba6a-8e764d5dda22",
   "metadata": {
    "scrolled": true
   },
   "outputs": [
    {
     "data": {
      "text/plain": [
       "{'a': 1,\n",
       " 'b': 2,\n",
       " 'c': 3,\n",
       " 'd': 4,\n",
       " 'e': 5,\n",
       " 'f': 6,\n",
       " 'g': 7,\n",
       " 'h': 8,\n",
       " 'i': 9,\n",
       " 'j': 10,\n",
       " 'k': 11,\n",
       " 'l': 12,\n",
       " 'm': 13,\n",
       " 'n': 14,\n",
       " 'o': 15,\n",
       " 'p': 16,\n",
       " 'q': 17,\n",
       " 'r': 18,\n",
       " 's': 19,\n",
       " 't': 20,\n",
       " 'u': 21,\n",
       " 'v': 22,\n",
       " 'w': 23,\n",
       " 'x': 24,\n",
       " 'y': 25,\n",
       " 'z': 26,\n",
       " '.': 0}"
      ]
     },
     "execution_count": 14,
     "metadata": {},
     "output_type": "execute_result"
    }
   ],
   "source": [
    "mapp_stoi"
   ]
  },
  {
   "cell_type": "code",
   "execution_count": 15,
   "id": "f455d30a-4319-4593-b5a7-4d95163ed88c",
   "metadata": {
    "scrolled": true
   },
   "outputs": [
    {
     "data": {
      "text/plain": [
       "{1: 'a',\n",
       " 2: 'b',\n",
       " 3: 'c',\n",
       " 4: 'd',\n",
       " 5: 'e',\n",
       " 6: 'f',\n",
       " 7: 'g',\n",
       " 8: 'h',\n",
       " 9: 'i',\n",
       " 10: 'j',\n",
       " 11: 'k',\n",
       " 12: 'l',\n",
       " 13: 'm',\n",
       " 14: 'n',\n",
       " 15: 'o',\n",
       " 16: 'p',\n",
       " 17: 'q',\n",
       " 18: 'r',\n",
       " 19: 's',\n",
       " 20: 't',\n",
       " 21: 'u',\n",
       " 22: 'v',\n",
       " 23: 'w',\n",
       " 24: 'x',\n",
       " 25: 'y',\n",
       " 26: 'z',\n",
       " 0: '.'}"
      ]
     },
     "execution_count": 15,
     "metadata": {},
     "output_type": "execute_result"
    }
   ],
   "source": [
    "mapp_itos"
   ]
  },
  {
   "cell_type": "code",
   "execution_count": 19,
   "id": "d15fcaff-862f-4f25-a044-88ed4864da5c",
   "metadata": {},
   "outputs": [
    {
     "data": {
      "text/plain": [
       "['.emma', '.olivia', '.ava', '.isabella', '.sophia']"
      ]
     },
     "execution_count": 19,
     "metadata": {},
     "output_type": "execute_result"
    }
   ],
   "source": [
    "words = ['.'+x for x in data]\n",
    "words[:5]"
   ]
  },
  {
   "cell_type": "code",
   "execution_count": 16,
   "id": "7bc5fe04-6af8-452d-89c1-916dd3ff62da",
   "metadata": {},
   "outputs": [
    {
     "data": {
      "text/plain": [
       "torch.Size([27, 27])"
      ]
     },
     "execution_count": 16,
     "metadata": {},
     "output_type": "execute_result"
    }
   ],
   "source": [
    "count_matrix = torch.zeros((27, 27))\n",
    "count_matrix.shape"
   ]
  },
  {
   "cell_type": "code",
   "execution_count": 22,
   "id": "ddaf1868-9354-41c3-a754-516f7824eebf",
   "metadata": {
    "scrolled": true
   },
   "outputs": [
    {
     "data": {
      "text/plain": [
       "tensor([[0.0000e+00, 4.4100e+03, 1.3060e+03, 1.5420e+03, 1.6900e+03, 1.5320e+03,\n",
       "         4.1700e+02, 6.6900e+02, 8.7400e+02, 5.9100e+02, 2.4220e+03, 2.9630e+03,\n",
       "         1.5720e+03, 2.5380e+03, 1.1460e+03, 3.9400e+02, 5.1500e+02, 9.2000e+01,\n",
       "         1.6390e+03, 2.0550e+03, 1.3080e+03, 7.8000e+01, 3.7600e+02, 3.0700e+02,\n",
       "         1.3400e+02, 5.3500e+02, 9.2900e+02],\n",
       "        [0.0000e+00, 5.5600e+02, 5.4100e+02, 4.7000e+02, 1.0420e+03, 6.9200e+02,\n",
       "         1.3400e+02, 1.6800e+02, 2.3320e+03, 1.6500e+03, 1.7500e+02, 5.6800e+02,\n",
       "         2.5280e+03, 1.6340e+03, 5.4380e+03, 6.3000e+01, 8.2000e+01, 6.0000e+01,\n",
       "         3.2640e+03, 1.1180e+03, 6.8700e+02, 3.8100e+02, 8.3400e+02, 1.6100e+02,\n",
       "         1.8200e+02, 2.0500e+03, 4.3500e+02],\n",
       "        [0.0000e+00, 3.2100e+02, 3.8000e+01, 1.0000e+00, 6.5000e+01, 6.5500e+02,\n",
       "         0.0000e+00, 0.0000e+00, 4.1000e+01, 2.1700e+02, 1.0000e+00, 0.0000e+00,\n",
       "         1.0300e+02, 0.0000e+00, 4.0000e+00, 1.0500e+02, 0.0000e+00, 0.0000e+00,\n",
       "         8.4200e+02, 8.0000e+00, 2.0000e+00, 4.5000e+01, 0.0000e+00, 0.0000e+00,\n",
       "         0.0000e+00, 8.3000e+01, 0.0000e+00],\n",
       "        [0.0000e+00, 8.1500e+02, 0.0000e+00, 4.2000e+01, 1.0000e+00, 5.5100e+02,\n",
       "         0.0000e+00, 2.0000e+00, 6.6400e+02, 2.7100e+02, 3.0000e+00, 3.1600e+02,\n",
       "         1.1600e+02, 0.0000e+00, 0.0000e+00, 3.8000e+02, 1.0000e+00, 1.1000e+01,\n",
       "         7.6000e+01, 5.0000e+00, 3.5000e+01, 3.5000e+01, 0.0000e+00, 0.0000e+00,\n",
       "         3.0000e+00, 1.0400e+02, 4.0000e+00],\n",
       "        [0.0000e+00, 1.3030e+03, 1.0000e+00, 3.0000e+00, 1.4900e+02, 1.2830e+03,\n",
       "         5.0000e+00, 2.5000e+01, 1.1800e+02, 6.7400e+02, 9.0000e+00, 3.0000e+00,\n",
       "         6.0000e+01, 3.0000e+01, 3.1000e+01, 3.7800e+02, 0.0000e+00, 1.0000e+00,\n",
       "         4.2400e+02, 2.9000e+01, 4.0000e+00, 9.2000e+01, 1.7000e+01, 2.3000e+01,\n",
       "         0.0000e+00, 3.1700e+02, 1.0000e+00],\n",
       "        [0.0000e+00, 6.7900e+02, 1.2100e+02, 1.5300e+02, 3.8400e+02, 1.2710e+03,\n",
       "         8.2000e+01, 1.2500e+02, 1.5200e+02, 8.1800e+02, 5.5000e+01, 1.7800e+02,\n",
       "         3.2480e+03, 7.7000e+02, 2.6750e+03, 2.6900e+02, 8.3000e+01, 1.4000e+01,\n",
       "         1.9580e+03, 8.6100e+02, 5.8000e+02, 6.9000e+01, 4.6300e+02, 5.0000e+01,\n",
       "         1.3200e+02, 1.0700e+03, 1.8100e+02],\n",
       "        [0.0000e+00, 2.4200e+02, 0.0000e+00, 0.0000e+00, 0.0000e+00, 1.2300e+02,\n",
       "         4.4000e+01, 1.0000e+00, 1.0000e+00, 1.6000e+02, 0.0000e+00, 2.0000e+00,\n",
       "         2.0000e+01, 0.0000e+00, 4.0000e+00, 6.0000e+01, 0.0000e+00, 0.0000e+00,\n",
       "         1.1400e+02, 6.0000e+00, 1.8000e+01, 1.0000e+01, 0.0000e+00, 4.0000e+00,\n",
       "         0.0000e+00, 1.4000e+01, 2.0000e+00],\n",
       "        [0.0000e+00, 3.3000e+02, 3.0000e+00, 0.0000e+00, 1.9000e+01, 3.3400e+02,\n",
       "         1.0000e+00, 2.5000e+01, 3.6000e+02, 1.9000e+02, 3.0000e+00, 0.0000e+00,\n",
       "         3.2000e+01, 6.0000e+00, 2.7000e+01, 8.3000e+01, 0.0000e+00, 0.0000e+00,\n",
       "         2.0100e+02, 3.0000e+01, 3.1000e+01, 8.5000e+01, 1.0000e+00, 2.6000e+01,\n",
       "         0.0000e+00, 3.1000e+01, 1.0000e+00],\n",
       "        [0.0000e+00, 2.2440e+03, 8.0000e+00, 2.0000e+00, 2.4000e+01, 6.7400e+02,\n",
       "         2.0000e+00, 2.0000e+00, 1.0000e+00, 7.2900e+02, 9.0000e+00, 2.9000e+01,\n",
       "         1.8500e+02, 1.1700e+02, 1.3800e+02, 2.8700e+02, 1.0000e+00, 1.0000e+00,\n",
       "         2.0400e+02, 3.1000e+01, 7.1000e+01, 1.6600e+02, 3.9000e+01, 1.0000e+01,\n",
       "         0.0000e+00, 2.1300e+02, 2.0000e+01],\n",
       "        [0.0000e+00, 2.4450e+03, 1.1000e+02, 5.0900e+02, 4.4000e+02, 1.6530e+03,\n",
       "         1.0100e+02, 4.2800e+02, 9.5000e+01, 8.2000e+01, 7.6000e+01, 4.4500e+02,\n",
       "         1.3450e+03, 4.2700e+02, 2.1260e+03, 5.8800e+02, 5.3000e+01, 5.2000e+01,\n",
       "         8.4900e+02, 1.3160e+03, 5.4100e+02, 1.0900e+02, 2.6900e+02, 8.0000e+00,\n",
       "         8.9000e+01, 7.7900e+02, 2.7700e+02],\n",
       "        [0.0000e+00, 1.4730e+03, 1.0000e+00, 4.0000e+00, 4.0000e+00, 4.4000e+02,\n",
       "         0.0000e+00, 0.0000e+00, 4.5000e+01, 1.1900e+02, 2.0000e+00, 2.0000e+00,\n",
       "         9.0000e+00, 5.0000e+00, 2.0000e+00, 4.7900e+02, 1.0000e+00, 0.0000e+00,\n",
       "         1.1000e+01, 7.0000e+00, 2.0000e+00, 2.0200e+02, 5.0000e+00, 6.0000e+00,\n",
       "         0.0000e+00, 1.0000e+01, 0.0000e+00],\n",
       "        [0.0000e+00, 1.7310e+03, 2.0000e+00, 2.0000e+00, 2.0000e+00, 8.9500e+02,\n",
       "         1.0000e+00, 0.0000e+00, 3.0700e+02, 5.0900e+02, 2.0000e+00, 2.0000e+01,\n",
       "         1.3900e+02, 9.0000e+00, 2.6000e+01, 3.4400e+02, 0.0000e+00, 0.0000e+00,\n",
       "         1.0900e+02, 9.5000e+01, 1.7000e+01, 5.0000e+01, 2.0000e+00, 3.4000e+01,\n",
       "         0.0000e+00, 3.7900e+02, 2.0000e+00],\n",
       "        [0.0000e+00, 2.6230e+03, 5.2000e+01, 2.5000e+01, 1.3800e+02, 2.9210e+03,\n",
       "         2.2000e+01, 6.0000e+00, 1.9000e+01, 2.4800e+03, 6.0000e+00, 2.4000e+01,\n",
       "         1.3450e+03, 6.0000e+01, 1.4000e+01, 6.9200e+02, 1.5000e+01, 3.0000e+00,\n",
       "         1.8000e+01, 9.4000e+01, 7.7000e+01, 3.2400e+02, 7.2000e+01, 1.6000e+01,\n",
       "         0.0000e+00, 1.5880e+03, 1.0000e+01],\n",
       "        [0.0000e+00, 2.5910e+03, 1.1200e+02, 5.1000e+01, 2.4000e+01, 8.1800e+02,\n",
       "         1.0000e+00, 0.0000e+00, 5.0000e+00, 1.2560e+03, 7.0000e+00, 1.0000e+00,\n",
       "         5.0000e+00, 1.6900e+02, 2.0000e+01, 4.5200e+02, 3.8000e+01, 0.0000e+00,\n",
       "         9.7000e+01, 3.5000e+01, 4.0000e+00, 1.3900e+02, 3.0000e+00, 2.0000e+00,\n",
       "         0.0000e+00, 2.8700e+02, 1.1000e+01],\n",
       "        [0.0000e+00, 2.9770e+03, 8.0000e+00, 2.1300e+02, 7.0400e+02, 1.3590e+03,\n",
       "         1.1000e+01, 2.7300e+02, 2.6000e+01, 1.7250e+03, 4.4000e+01, 5.8000e+01,\n",
       "         1.9500e+02, 1.9000e+01, 1.9060e+03, 4.9600e+02, 5.0000e+00, 2.0000e+00,\n",
       "         4.4000e+01, 2.7800e+02, 4.4300e+02, 9.6000e+01, 5.5000e+01, 1.1000e+01,\n",
       "         6.0000e+00, 4.6500e+02, 1.4500e+02],\n",
       "        [0.0000e+00, 1.4900e+02, 1.4000e+02, 1.1400e+02, 1.9000e+02, 1.3200e+02,\n",
       "         3.4000e+01, 4.4000e+01, 1.7100e+02, 6.9000e+01, 1.6000e+01, 6.8000e+01,\n",
       "         6.1900e+02, 2.6100e+02, 2.4110e+03, 1.1500e+02, 9.5000e+01, 3.0000e+00,\n",
       "         1.0590e+03, 5.0400e+02, 1.1800e+02, 2.7500e+02, 1.7600e+02, 1.1400e+02,\n",
       "         4.5000e+01, 1.0300e+02, 5.4000e+01],\n",
       "        [0.0000e+00, 2.0900e+02, 2.0000e+00, 1.0000e+00, 0.0000e+00, 1.9700e+02,\n",
       "         1.0000e+00, 0.0000e+00, 2.0400e+02, 6.1000e+01, 1.0000e+00, 1.0000e+00,\n",
       "         1.6000e+01, 1.0000e+00, 1.0000e+00, 5.9000e+01, 3.9000e+01, 0.0000e+00,\n",
       "         1.5100e+02, 1.6000e+01, 1.7000e+01, 4.0000e+00, 0.0000e+00, 0.0000e+00,\n",
       "         0.0000e+00, 1.2000e+01, 0.0000e+00],\n",
       "        [0.0000e+00, 1.3000e+01, 0.0000e+00, 0.0000e+00, 0.0000e+00, 1.0000e+00,\n",
       "         0.0000e+00, 0.0000e+00, 0.0000e+00, 1.3000e+01, 0.0000e+00, 0.0000e+00,\n",
       "         1.0000e+00, 2.0000e+00, 0.0000e+00, 2.0000e+00, 0.0000e+00, 0.0000e+00,\n",
       "         1.0000e+00, 2.0000e+00, 0.0000e+00, 2.0600e+02, 0.0000e+00, 3.0000e+00,\n",
       "         0.0000e+00, 0.0000e+00, 0.0000e+00],\n",
       "        [0.0000e+00, 2.3560e+03, 4.1000e+01, 9.9000e+01, 1.8700e+02, 1.6970e+03,\n",
       "         9.0000e+00, 7.6000e+01, 1.2100e+02, 3.0330e+03, 2.5000e+01, 9.0000e+01,\n",
       "         4.1300e+02, 1.6200e+02, 1.4000e+02, 8.6900e+02, 1.4000e+01, 1.6000e+01,\n",
       "         4.2500e+02, 1.9000e+02, 2.0800e+02, 2.5200e+02, 8.0000e+01, 2.1000e+01,\n",
       "         3.0000e+00, 7.7300e+02, 2.3000e+01],\n",
       "        [0.0000e+00, 1.2010e+03, 2.1000e+01, 6.0000e+01, 9.0000e+00, 8.8400e+02,\n",
       "         2.0000e+00, 2.0000e+00, 1.2850e+03, 6.8400e+02, 2.0000e+00, 8.2000e+01,\n",
       "         2.7900e+02, 9.0000e+01, 2.4000e+01, 5.3100e+02, 5.1000e+01, 1.0000e+00,\n",
       "         5.5000e+01, 4.6100e+02, 7.6500e+02, 1.8500e+02, 1.4000e+01, 2.4000e+01,\n",
       "         0.0000e+00, 2.1500e+02, 1.0000e+01],\n",
       "        [0.0000e+00, 1.0270e+03, 1.0000e+00, 1.7000e+01, 0.0000e+00, 7.1600e+02,\n",
       "         2.0000e+00, 2.0000e+00, 6.4700e+02, 5.3200e+02, 3.0000e+00, 0.0000e+00,\n",
       "         1.3400e+02, 4.0000e+00, 2.2000e+01, 6.6700e+02, 0.0000e+00, 0.0000e+00,\n",
       "         3.5200e+02, 3.5000e+01, 3.7400e+02, 7.8000e+01, 1.5000e+01, 1.1000e+01,\n",
       "         2.0000e+00, 3.4100e+02, 1.0500e+02],\n",
       "        [0.0000e+00, 1.6300e+02, 1.0300e+02, 1.0300e+02, 1.3600e+02, 1.6900e+02,\n",
       "         1.9000e+01, 4.7000e+01, 5.8000e+01, 1.2100e+02, 1.4000e+01, 9.3000e+01,\n",
       "         3.0100e+02, 1.5400e+02, 2.7500e+02, 1.0000e+01, 1.6000e+01, 1.0000e+01,\n",
       "         4.1400e+02, 4.7400e+02, 8.2000e+01, 3.0000e+00, 3.7000e+01, 8.6000e+01,\n",
       "         3.4000e+01, 1.3000e+01, 4.5000e+01],\n",
       "        [0.0000e+00, 6.4200e+02, 1.0000e+00, 0.0000e+00, 1.0000e+00, 5.6800e+02,\n",
       "         0.0000e+00, 0.0000e+00, 1.0000e+00, 9.1100e+02, 0.0000e+00, 3.0000e+00,\n",
       "         1.4000e+01, 0.0000e+00, 8.0000e+00, 1.5300e+02, 0.0000e+00, 0.0000e+00,\n",
       "         4.8000e+01, 0.0000e+00, 0.0000e+00, 7.0000e+00, 7.0000e+00, 0.0000e+00,\n",
       "         0.0000e+00, 1.2100e+02, 0.0000e+00],\n",
       "        [0.0000e+00, 2.8000e+02, 1.0000e+00, 0.0000e+00, 8.0000e+00, 1.4900e+02,\n",
       "         2.0000e+00, 1.0000e+00, 2.3000e+01, 1.4800e+02, 0.0000e+00, 6.0000e+00,\n",
       "         1.3000e+01, 2.0000e+00, 5.8000e+01, 3.6000e+01, 0.0000e+00, 0.0000e+00,\n",
       "         2.2000e+01, 2.0000e+01, 8.0000e+00, 2.5000e+01, 0.0000e+00, 2.0000e+00,\n",
       "         0.0000e+00, 7.3000e+01, 1.0000e+00],\n",
       "        [0.0000e+00, 1.0300e+02, 1.0000e+00, 4.0000e+00, 5.0000e+00, 3.6000e+01,\n",
       "         3.0000e+00, 0.0000e+00, 1.0000e+00, 1.0200e+02, 0.0000e+00, 0.0000e+00,\n",
       "         3.9000e+01, 1.0000e+00, 1.0000e+00, 4.1000e+01, 0.0000e+00, 0.0000e+00,\n",
       "         0.0000e+00, 3.1000e+01, 7.0000e+01, 5.0000e+00, 0.0000e+00, 3.0000e+00,\n",
       "         3.8000e+01, 3.0000e+01, 1.9000e+01],\n",
       "        [0.0000e+00, 2.1430e+03, 2.7000e+01, 1.1500e+02, 2.7200e+02, 3.0100e+02,\n",
       "         1.2000e+01, 3.0000e+01, 2.2000e+01, 1.9200e+02, 2.3000e+01, 8.6000e+01,\n",
       "         1.1040e+03, 1.4800e+02, 1.8260e+03, 2.7100e+02, 1.5000e+01, 6.0000e+00,\n",
       "         2.9100e+02, 4.0100e+02, 1.0400e+02, 1.4100e+02, 1.0600e+02, 4.0000e+00,\n",
       "         2.8000e+01, 2.3000e+01, 7.8000e+01],\n",
       "        [0.0000e+00, 8.6000e+02, 4.0000e+00, 2.0000e+00, 2.0000e+00, 3.7300e+02,\n",
       "         0.0000e+00, 1.0000e+00, 4.3000e+01, 3.6400e+02, 2.0000e+00, 2.0000e+00,\n",
       "         1.2300e+02, 3.5000e+01, 4.0000e+00, 1.1000e+02, 2.0000e+00, 0.0000e+00,\n",
       "         3.2000e+01, 4.0000e+00, 4.0000e+00, 7.3000e+01, 2.0000e+00, 3.0000e+00,\n",
       "         1.0000e+00, 1.4700e+02, 4.5000e+01]])"
      ]
     },
     "execution_count": 22,
     "metadata": {},
     "output_type": "execute_result"
    }
   ],
   "source": [
    "tuples = []\n",
    "for word in words:\n",
    "    for x, y in zip(word, word[1:]):\n",
    "        i = mapp_stoi[x]\n",
    "        j = mapp_stoi[y]\n",
    "        count_matrix[i,j] += 1\n",
    "count_matrix"
   ]
  },
  {
   "cell_type": "code",
   "execution_count": 54,
   "id": "71739305-66b0-471c-9e2c-3741b3bc18d7",
   "metadata": {},
   "outputs": [
    {
     "data": {
      "image/png": "[encoded data removed]",
      "text/plain": [
       "<Figure size 1200x1200 with 1 Axes>"
      ]
     },
     "metadata": {},
     "output_type": "display_data"
    }
   ],
   "source": [
    "plt.figure(figsize=(12,12))\n",
    "plt.imshow(count_matrix,cmap='Blues');"
   ]
  },
  {
   "cell_type": "code",
   "execution_count": 27,
   "id": "40c64f8a-028c-4736-abf5-3a6277b63384",
   "metadata": {},
   "outputs": [
    {
     "data": {
      "text/plain": [
       "tensor(1.0000)"
      ]
     },
     "execution_count": 27,
     "metadata": {},
     "output_type": "execute_result"
    }
   ],
   "source": [
    "p_matrix = count_matrix / count_matrix.sum(1, keepdims=True)\n",
    "p_matrix[0].sum()"
   ]
  },
  {
   "cell_type": "code",
   "execution_count": null,
   "id": "eccdb4a9-ff35-4639-8808-7f991c691510",
   "metadata": {},
   "outputs": [],
   "source": []
  }
 ],
 "metadata": {
  "kernelspec": {
   "display_name": "Python 3 (ipykernel)",
   "language": "python",
   "name": "python3"
  },
  "language_info": {
   "codemirror_mode": {
    "name": "ipython",
    "version": 3
   },
   "file_extension": ".py",
   "mimetype": "text/x-python",
   "name": "python",
   "nbconvert_exporter": "python",
   "pygments_lexer": "ipython3",
   "version": "3.9.6"
  }
 },
 "nbformat": 4,
 "nbformat_minor": 5
}
